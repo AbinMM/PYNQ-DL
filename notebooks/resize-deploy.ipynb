{
 "cells": [
  {
   "cell_type": "markdown",
   "metadata": {},
   "source": [
    "# Resizing an image in FPGA - Deployment Flow\n",
    "This reference design illustrates how to run a resizer IP on the FPGA(PL) using Jupyter Notebooks and Python\n",
    "\n",
    "## Block diagram:\n",
    "\n",
    "![](./images/resize_bd.png)\n",
    "\n",
    "## Contents    \n",
    "  \n",
    "\n",
    "* [Resizing an image in Programmable Logic](#Resizing-an-image-in-Programmable-Logic)\n",
    "    * [Import libraries](#Import-libraries)\n",
    "    * [Download the Resize IP bitstream](#Download-the-Resize-IP-bitstream)\n",
    "    * [Create an Image object using PIL in SW](#Create-an-Image-object-using-PIL-in-SW)\n",
    "    * [Display the image to be resized](#Display-the-image-to-be-resized)\n",
    "    * [Resizing in Software](#Resizing-in-Software)\n",
    "    * [Resize in Programmable Logic](#Resize-in-Programmable-Logic)\n",
    "* [References](#References)"
   ]
  },
  {
   "cell_type": "markdown",
   "metadata": {},
   "source": [
    "## Import libraries"
   ]
  },
  {
   "cell_type": "code",
   "execution_count": null,
   "metadata": {},
   "outputs": [],
   "source": [
    "from PIL import Image\n",
    "import numpy as np\n",
    "from IPython.display import display, Markdown\n",
    "from pynq import Xlnk\n",
    "from pynq import Overlay"
   ]
  },
  {
   "cell_type": "markdown",
   "metadata": {},
   "source": [
    "\n",
    "## Download the Resize IP bitstream"
   ]
  },
  {
   "cell_type": "code",
   "execution_count": null,
   "metadata": {},
   "outputs": [],
   "source": [
    "resize_design = Overlay(\"/opt/python3.6/lib/python3.6/site-packages/pynq/overlays/resize/resize.bit\")"
   ]
  },
  {
   "cell_type": "markdown",
   "metadata": {},
   "source": [
    "#### Create DMA and Resizer IP objects"
   ]
  },
  {
   "cell_type": "code",
   "execution_count": null,
   "metadata": {},
   "outputs": [],
   "source": [
    "dma = resize_design.axi_dma_0\n",
    "resizer = resize_design.resize_accel_0"
   ]
  },
  {
   "cell_type": "markdown",
   "metadata": {},
   "source": [
    "## Create an Image object using PIL in SW\n",
    "#### Load image from the SD card and create an Image object"
   ]
  },
  {
   "cell_type": "code",
   "execution_count": null,
   "metadata": {},
   "outputs": [],
   "source": [
    "image_path = \"./images/paris.jpg\"\n",
    "original_image = Image.open(image_path)\n",
    "original_image.load()"
   ]
  },
  {
   "cell_type": "markdown",
   "metadata": {},
   "source": [
    "#### Create a numpy array of the pixels"
   ]
  },
  {
   "cell_type": "code",
   "execution_count": null,
   "metadata": {},
   "outputs": [],
   "source": [
    "input_array = np.array(original_image)"
   ]
  },
  {
   "cell_type": "markdown",
   "metadata": {},
   "source": [
    "[Contents](#Contents)"
   ]
  },
  {
   "cell_type": "markdown",
   "metadata": {},
   "source": [
    "## Display the image to be resized"
   ]
  },
  {
   "cell_type": "code",
   "execution_count": null,
   "metadata": {},
   "outputs": [],
   "source": [
    "input_image = Image.fromarray(input_array)\n",
    "# display(input_image)\n",
    "\n",
    "# def printmd(string):\n",
    "#     display(Markdown('<h1 style=\"color:DeepPink\"> {}</h1>'.format(string)))"
   ]
  },
  {
   "cell_type": "markdown",
   "metadata": {},
   "source": [
    "#### Original image size"
   ]
  },
  {
   "cell_type": "code",
   "execution_count": null,
   "metadata": {},
   "outputs": [],
   "source": [
    "old_width, old_height = original_image.size\n",
    "# printmd(\"Image size: {}x{} pixels.\".format(old_width, old_height))"
   ]
  },
  {
   "cell_type": "markdown",
   "metadata": {},
   "source": [
    "[Contents](#Contents)"
   ]
  },
  {
   "cell_type": "markdown",
   "metadata": {},
   "source": [
    "## Resizing in Software"
   ]
  },
  {
   "cell_type": "markdown",
   "metadata": {},
   "source": [
    "#### Setting image resize dimensions\n",
    "**Note:** Downscale factor range:  1 to 7 (by design of the resize IP)"
   ]
  },
  {
   "cell_type": "code",
   "execution_count": null,
   "metadata": {},
   "outputs": [],
   "source": [
    "resize_factor = 2\n",
    "new_width, new_height = int(old_width/resize_factor), int(old_height/resize_factor)"
   ]
  },
  {
   "cell_type": "markdown",
   "metadata": {},
   "source": [
    "#### Timing in SW"
   ]
  },
  {
   "cell_type": "code",
   "execution_count": null,
   "metadata": {},
   "outputs": [],
   "source": [
    "# %%timeit\n",
    "# resized_image_sw = original_image.resize((new_width, new_height), Image.BILINEAR)"
   ]
  },
  {
   "cell_type": "markdown",
   "metadata": {},
   "source": [
    "#### Using resize() method from the PIL library"
   ]
  },
  {
   "cell_type": "code",
   "execution_count": null,
   "metadata": {},
   "outputs": [],
   "source": [
    "resized_image_sw = original_image.resize((new_width, new_height), Image.BILINEAR)"
   ]
  },
  {
   "cell_type": "markdown",
   "metadata": {},
   "source": [
    "[Contents](#Contents)"
   ]
  },
  {
   "cell_type": "markdown",
   "metadata": {},
   "source": [
    "#### Display resized image"
   ]
  },
  {
   "cell_type": "code",
   "execution_count": null,
   "metadata": {},
   "outputs": [],
   "source": [
    "output_array_sw = np.array(resized_image_sw)\n",
    "result_sw = Image.fromarray(output_array_sw)\n",
    "# display(result_sw)"
   ]
  },
  {
   "cell_type": "markdown",
   "metadata": {},
   "source": [
    "#### Resized image size"
   ]
  },
  {
   "cell_type": "code",
   "execution_count": null,
   "metadata": {},
   "outputs": [],
   "source": [
    "width_sw, height_sw = resized_image_sw.size\n",
    "# printmd(\"Image size resized in SW: {}x{} pixels.\".format(width_sw, height_sw))"
   ]
  },
  {
   "cell_type": "markdown",
   "metadata": {},
   "source": [
    "[Contents](#Contents)"
   ]
  },
  {
   "cell_type": "markdown",
   "metadata": {},
   "source": [
    "## Resize in Programmable Logic"
   ]
  },
  {
   "cell_type": "markdown",
   "metadata": {},
   "source": [
    "#### Allocating memory to process data on PL\n",
    "Data is provided through contiguous memory locations.\n",
    "\n",
    "The size of the buffer depends on the size of the input or output data.\n",
    "The image dimensions extracted from the read image are used to allocate contiguous memory as follows.\n",
    "We will use `cma_array` of the corresponding size."
   ]
  },
  {
   "cell_type": "code",
   "execution_count": null,
   "metadata": {},
   "outputs": [],
   "source": [
    "xlnk = Xlnk()\n",
    "in_buffer = xlnk.cma_array(shape=(old_height, old_width, 3), dtype=np.uint8)\n",
    "out_buffer = xlnk.cma_array(shape=(new_height, new_width, 3), dtype=np.uint8)"
   ]
  },
  {
   "cell_type": "markdown",
   "metadata": {},
   "source": [
    "__Note: In the following example, we are only dealing with one image. We will just send one image to the kernel and obtain the results.__\n",
    "\n",
    "__Also Note: The `input_array` has to be copied into the contiguous memory array(deep copy).__"
   ]
  },
  {
   "cell_type": "markdown",
   "metadata": {},
   "source": [
    "[Contents](#Contents)"
   ]
  },
  {
   "cell_type": "markdown",
   "metadata": {},
   "source": [
    "#### Display the image in buffer"
   ]
  },
  {
   "cell_type": "code",
   "execution_count": null,
   "metadata": {},
   "outputs": [],
   "source": [
    "in_buffer[:] = input_array\n",
    "buf_image = Image.fromarray(in_buffer)\n",
    "# display(buf_image)\n",
    "# printmd(\"Image size: {}x{} pixels.\".format(old_width, old_height))"
   ]
  },
  {
   "cell_type": "markdown",
   "metadata": {},
   "source": [
    "\n",
    "#### Run the Resizer IP\n",
    "Now we will push the data from input buffer through the pipeline to the output buffer.   \n",
    "Providing scalar inputs and running the kernel"
   ]
  },
  {
   "cell_type": "code",
   "execution_count": null,
   "metadata": {},
   "outputs": [],
   "source": [
    "resizer.write(0x10, old_height) # src rows\n",
    "resizer.write(0x18, old_width)  # src cols\n",
    "resizer.write(0x20, new_height) # dst rows\n",
    "resizer.write(0x28, new_width)  # dst cols\n",
    "\n",
    "def run_kernel():\n",
    "    dma.sendchannel.transfer(in_buffer)\n",
    "    dma.recvchannel.transfer(out_buffer)\n",
    "    resizer.write(0x00,0x81)\n",
    "    dma.sendchannel.wait()\n",
    "    dma.recvchannel.wait()\n",
    "\n",
    "run_kernel()\n",
    "\n",
    "result = Image.fromarray(out_buffer)\n",
    "# display(result)\n",
    "# printmd(\"Resized in Hardware(PL): {}x{} pixels.\".format(new_width, new_height))"
   ]
  },
  {
   "cell_type": "markdown",
   "metadata": {},
   "source": [
    "#### Timing in HW"
   ]
  },
  {
   "cell_type": "code",
   "execution_count": null,
   "metadata": {},
   "outputs": [],
   "source": [
    "# %%timeit\n",
    "\n",
    "# resizer.write(0x10, old_height) # src rows\n",
    "# resizer.write(0x18, old_width)  # src cols\n",
    "# resizer.write(0x20, new_height) # dst rows\n",
    "# resizer.write(0x28, new_width)  # dst cols\n",
    "\n",
    "# def run_kernel():\n",
    "#     dma.sendchannel.transfer(in_buffer)\n",
    "#     dma.recvchannel.transfer(out_buffer)\n",
    "#     resizer.write(0x00,0x81)\n",
    "#     dma.sendchannel.wait()\n",
    "#     dma.recvchannel.wait()\n",
    "\n",
    "# run_kernel()"
   ]
  },
  {
   "cell_type": "markdown",
   "metadata": {},
   "source": [
    "#### Deploy"
   ]
  },
  {
   "cell_type": "code",
   "execution_count": null,
   "metadata": {},
   "outputs": [],
   "source": [
    "result = Image.fromarray(out_buffer)\n",
    "result.save('./paris_resized.jpg')"
   ]
  },
  {
   "cell_type": "markdown",
   "metadata": {},
   "source": [
    "[Contents](#Contents)"
   ]
  },
  {
   "cell_type": "markdown",
   "metadata": {},
   "source": [
    "#### Reset Xlnk"
   ]
  },
  {
   "cell_type": "code",
   "execution_count": null,
   "metadata": {},
   "outputs": [],
   "source": [
    "xlnk.xlnk_reset()"
   ]
  },
  {
   "cell_type": "markdown",
   "metadata": {},
   "source": [
    "# References\n",
    "\n",
    "https://pillow.readthedocs.io/en/3.1.x/index.html   \n",
    "https://github.com/Xilinx/PYNQ/blob/master/docs/source/python_environment.ipynb   \n",
    "https://github.com/Xilinx/PYNQ/blob/master/docs/source/jupyter_notebooks.ipynb   \n",
    "https://github.com/Xilinx/PYNQ/blob/master/docs/source/jupyter_notebooks_advanced_features.ipynb   "
   ]
  }
 ],
 "metadata": {
  "kernelspec": {
   "display_name": "Python 3",
   "language": "python",
   "name": "python3"
  },
  "language_info": {
   "codemirror_mode": {
    "name": "ipython",
    "version": 3
   },
   "file_extension": ".py",
   "mimetype": "text/x-python",
   "name": "python",
   "nbconvert_exporter": "python",
   "pygments_lexer": "ipython3",
   "version": "3.6.0"
  }
 },
 "nbformat": 4,
 "nbformat_minor": 2
}
