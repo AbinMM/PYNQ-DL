{
 "cells": [
  {
   "cell_type": "markdown",
   "metadata": {},
   "source": [
    "## Convolution Demo Run\n",
    "___\n",
    "<div class=\"alert bg-primary\">This notebook shows a single run of the convolution using CNNDataflow IP. The input feature map is read from memory, processed and output feature map is captured for one single convolution command. The cycle count for the full operation is read and displayed at the end.\n",
    "The input data in memory is set with random integers in this notebook to test the convolution run.</div>\n"
   ]
  },
  {
   "cell_type": "markdown",
   "metadata": {},
   "source": [
    "### Set the arguments for the convolution in CNNDataflow IP"
   ]
  },
  {
   "cell_type": "code",
   "execution_count": 1,
   "metadata": {},
   "outputs": [
    {
     "name": "stdout",
     "output_type": "stream",
     "text": [
      "HOST CMD: CNNDataflow IP Arguments set are - IH 14, IW 14, ID 64, KH 3, KW 3, P 0, S 1, CH 32\n"
     ]
    }
   ],
   "source": [
    "# Input Feature Map (IFM) dimensions\n",
    "ifm_height = 14\n",
    "ifm_width = 14\n",
    "ifm_depth = 64\n",
    "\n",
    "# Kernel Window dimensions\n",
    "kernel_height = 3\n",
    "kernel_width = 3\n",
    "\n",
    "# Other arguments\n",
    "pad = 0\n",
    "stride = 1\n",
    "\n",
    "# Channels\n",
    "channels = 32\n",
    "\n",
    "print(\n",
    "    \"HOST CMD: CNNDataflow IP Arguments set are - IH %d, IW %d, ID %d, KH %d,\"\n",
    "    \" KW %d, P %d, S %d, CH %d\"\n",
    "    % (ifm_height, ifm_width, ifm_depth, kernel_height, kernel_width,\n",
    "       pad, stride, channels))"
   ]
  },
  {
   "cell_type": "markdown",
   "metadata": {},
   "source": [
    "### Download `Convolution IP` bitstream"
   ]
  },
  {
   "cell_type": "code",
   "execution_count": 2,
   "metadata": {},
   "outputs": [
    {
     "name": "stdout",
     "output_type": "stream",
     "text": [
      "Bitstream download status: True\n"
     ]
    }
   ],
   "source": [
    "from pynq import Overlay\n",
    "\n",
    "overlay = Overlay(\n",
    "    \"/opt/python3.6/lib/python3.6/site-packages/pynq/overlays/darius/\"\n",
    "    \"convolution.bit\")\n",
    "overlay.download()\n",
    "print(f'Bitstream download status: {overlay.is_loaded()}')"
   ]
  },
  {
   "cell_type": "markdown",
   "metadata": {},
   "source": [
    "### Create MMIO object to access the CNNDataflow IP\n",
    "[MMIO Documentation](http://pynq.readthedocs.io/en/latest/overlay_design_methodology/pspl_interface.html#mmio)"
   ]
  },
  {
   "cell_type": "code",
   "execution_count": 3,
   "metadata": {},
   "outputs": [
    {
     "name": "stdout",
     "output_type": "stream",
     "text": [
      "Idle state: 0x4\n"
     ]
    }
   ],
   "source": [
    "from pynq import MMIO\n",
    "\n",
    "# Constants\n",
    "CNNDATAFLOW_BASEADDR = 0x43C00000\n",
    "NUM_COMMANDS_OFFSET = 0x60\n",
    "CMD_BASEADDR_OFFSET = 0x70\n",
    "CYCLE_COUNT_OFFSET = 0xd0\n",
    "\n",
    "cnn = MMIO(CNNDATAFLOW_BASEADDR, 65536)\n",
    "print(f'Idle state: {hex(cnn.read(0x0, 4))}')"
   ]
  },
  {
   "cell_type": "markdown",
   "metadata": {},
   "source": [
    "### Create Xlnk object \n",
    "__Xlnk object (Memory Management Unit) for allocating contiguous array in memory for data transfer between software and hardware__\n",
    "\n",
    "<div class=\"alert alert-danger\">Note: You may run into problems if you exhaust and do not free memory buffers – we only have 128MB of contiguous memory, so calling the allocation twice (allocating 160MB) would lead to a “failed to allocate memory” error. Do a xlnk_reset() before re-allocating memory or running this cell twice  </div>"
   ]
  },
  {
   "cell_type": "code",
   "execution_count": 4,
   "metadata": {
    "collapsed": true
   },
   "outputs": [],
   "source": [
    "from pynq import Xlnk\n",
    "import numpy as np\n",
    "\n",
    "# Constant\n",
    "SIZE = 5000000  # 20 MB of numpy.uint32s\n",
    "\n",
    "mmu = Xlnk()\n",
    "\n",
    "# Contiguous memory buffers for CNNDataflow IP convolution command, IFM Volume,\n",
    "# Weights and OFM Volume. These buffers are shared memories that are used to \n",
    "# transfer data between software and hardware\n",
    "cmd = mmu.cma_array(SIZE)\n",
    "ifm = mmu.cma_array(SIZE)\n",
    "weights = mmu.cma_array(SIZE)\n",
    "ofm = mmu.cma_array(SIZE)\n",
    "\n",
    "# Saving the base phyiscal address for the command, ifm, weights, and\n",
    "# ofm buffers. These addresses will be used later to copy and transfer data \n",
    "# between hardware and software\n",
    "cmd_baseaddr = cmd.physical_address\n",
    "ifm_baseaddr = ifm.physical_address\n",
    "weights_baseaddr = weights.physical_address\n",
    "ofm_baseaddr = ofm.physical_address"
   ]
  },
  {
   "cell_type": "markdown",
   "metadata": {},
   "source": [
    "### Functions to print Xlnk statistics"
   ]
  },
  {
   "cell_type": "code",
   "execution_count": 5,
   "metadata": {},
   "outputs": [
    {
     "name": "stdout",
     "output_type": "stream",
     "text": [
      "Available Memory (KB): 52664\n",
      "Available Buffers: 4\n"
     ]
    }
   ],
   "source": [
    "def get_kb(mmu):\n",
    "    return int(mmu.cma_stats()['CMA Memory Available'] // 1024)\n",
    "\n",
    "\n",
    "def get_bufcount(mmu):\n",
    "    return int(mmu.cma_stats()['Buffer Count'])\n",
    "\n",
    "\n",
    "def print_kb(mmu):\n",
    "    print(\"Available Memory (KB): \" + str(get_kb(mmu)))\n",
    "    print(\"Available Buffers: \" + str(get_bufcount(mmu)))\n",
    "\n",
    "\n",
    "print_kb(mmu)"
   ]
  },
  {
   "cell_type": "markdown",
   "metadata": {},
   "source": [
    "### Construct convolution command\n",
    "__Check that arguments are in supported range and construct convolution command for hardware__"
   ]
  },
  {
   "cell_type": "code",
   "execution_count": 6,
   "metadata": {},
   "outputs": [
    {
     "name": "stdout",
     "output_type": "stream",
     "text": [
      "All convolution arguments are in supported range\n",
      "Convolution command to CNNDataflow IP: \n",
      "b'\\x0e\\x00\\x0e\\x00\\x03\\x00\\x03\\x00\\x01\\x00\\x00\\x00\\x0c\\x00\\x0c\\x00\\x08\\x00\\x04\\x00\\x01\\x00\\x01\\x00\\x00\\x00\\xd0\\x17 \\x06\\x00\\x00\\x001\\x00\\x00\\x00\\x00\\x00\\x00\\x00\\x00P\\x1a@\\x02\\x00\\x00\\x00\\x00\\x10\\x19@\\x02\\x00\\x00\\x00\\x12\\x00\\x00\\x00\\x00\\x00\\x00'\n"
     ]
    }
   ],
   "source": [
    "from darius import cnndataflow_lib\n",
    "\n",
    "conv = cnndataflow_lib.CNNDataflow(ifm_height, ifm_width, ifm_depth,\n",
    "                                   kernel_height, kernel_width, pad, stride,\n",
    "                                   channels, ifm_baseaddr, weights_baseaddr,\n",
    "                                   ofm_baseaddr)\n",
    "\n",
    "conv.construct_conv_cmd(ifm_height, ifm_width, ifm_depth, kernel_height,\n",
    "                        kernel_width, pad, stride, channels, ifm_baseaddr,\n",
    "                        weights_baseaddr, ofm_baseaddr)"
   ]
  },
  {
   "cell_type": "markdown",
   "metadata": {},
   "source": [
    "### Create IFM volume and weight volume.\n",
    "__Volumes are created in software and populated with random values in a row-major format.__"
   ]
  },
  {
   "cell_type": "code",
   "execution_count": 7,
   "metadata": {
    "collapsed": true
   },
   "outputs": [],
   "source": [
    "from random import *\n",
    "\n",
    "ifm_sw = np.empty(ifm_width * ifm_height * ifm_depth, dtype=np.int16)\n",
    "\n",
    "for i in range(0, ifm_depth):\n",
    "    for j in range(0, ifm_height):\n",
    "        for k in range(0, ifm_width):\n",
    "            index = i * ifm_height * ifm_width + j * ifm_width + k\n",
    "            ifm_sw[index] = randint(0, 255)\n",
    "\n",
    "weights_sw = np.empty(channels * ifm_depth * kernel_height * kernel_width,\n",
    "                      dtype=np.int16)\n",
    "\n",
    "for i in range(0, channels):\n",
    "    for j in range(0, ifm_depth):\n",
    "        for k in range(0, kernel_height * kernel_width):\n",
    "            addr = i * ifm_depth * kernel_height * kernel_width + \\\n",
    "                   j * kernel_height * kernel_width + k\n",
    "            weights_sw[addr] = randint(0, 255)"
   ]
  },
  {
   "cell_type": "markdown",
   "metadata": {},
   "source": [
    "__Run the following in a code cell for debug:   __\n",
    "```Python           \n",
    "for i in range(0, ifm_width*ifm_height*ifm_depth, 4):\n",
    "    print(hex(ifm_sw[i]))\n",
    "\n",
    "for i in range(0, channels*ifm_depth*kernel_height*kernel_width, 4):\n",
    "    print(hex(weights_sw[i]))\n",
    "```    "
   ]
  },
  {
   "cell_type": "markdown",
   "metadata": {},
   "source": [
    "### Reshape IFM volume and weights \n",
    "__Volumes are reshaped from row-major format to IP format and data is copied to their respective shared buffer__"
   ]
  },
  {
   "cell_type": "code",
   "execution_count": 8,
   "metadata": {
    "collapsed": true
   },
   "outputs": [],
   "source": [
    "conv.reshape_and_copy_ifm(ifm_height, ifm_width, ifm_depth, ifm_sw, ifm)\n",
    "conv.reshape_and_copy_weights(kernel_height, kernel_width, ifm_depth,\n",
    "                              weights_sw, weights)"
   ]
  },
  {
   "cell_type": "markdown",
   "metadata": {},
   "source": [
    "__Run the following in a code cell for debug:__   \n",
    "```Python\n",
    "for i in range(0, ifm_width*ifm_height*ifm_depth, 4):\n",
    "    print(hex(ifm[i]))\n",
    "\n",
    "for i in range(0, channels*ifm_depth*kernel_height*kernel_width, 4):\n",
    "    print(hex(weights[i]))\n",
    "```"
   ]
  },
  {
   "cell_type": "markdown",
   "metadata": {},
   "source": [
    "### Send convolution command to CNNDataflow IP"
   ]
  },
  {
   "cell_type": "code",
   "execution_count": 9,
   "metadata": {
    "collapsed": true
   },
   "outputs": [],
   "source": [
    "conv.load_conv_cmd(cmd_baseaddr)"
   ]
  },
  {
   "cell_type": "markdown",
   "metadata": {},
   "source": [
    "### Start IP"
   ]
  },
  {
   "cell_type": "code",
   "execution_count": 10,
   "metadata": {},
   "outputs": [
    {
     "name": "stdout",
     "output_type": "stream",
     "text": [
      "state: IP IDLE; HENCE STARTING IP\n"
     ]
    }
   ],
   "source": [
    "# Load the number of commands and command physical address to offset addresses\n",
    "cnn.write(NUM_COMMANDS_OFFSET, 1)\n",
    "cnn.write(CMD_BASEADDR_OFFSET, cmd_baseaddr)\n",
    "\n",
    "# Start Convolution if CNNDataflow IP is in Idle state\n",
    "state = cnn.read(0x0)\n",
    "if state == 4: # Idle state\n",
    "    print(\"state: IP IDLE; HENCE STARTING IP\")\n",
    "    start = cnn.write(0x0, 1) # Start IP\n",
    "    start\n",
    "else:\n",
    "    print(\"state %x: IP BUSY\" % state)"
   ]
  },
  {
   "cell_type": "markdown",
   "metadata": {},
   "source": [
    "### Check status of the CNNDataflow IP"
   ]
  },
  {
   "cell_type": "code",
   "execution_count": 11,
   "metadata": {},
   "outputs": [
    {
     "name": "stdout",
     "output_type": "stream",
     "text": [
      "state: IP DONE\n"
     ]
    }
   ],
   "source": [
    "# Check if Convolution IP is in Done state\n",
    "state = cnn.read(0x0)\n",
    "if state == 6: # Done state\n",
    "    print(\"state: IP DONE\")\n",
    "else:\n",
    "    print(\"state %x: IP BUSY\" % state)"
   ]
  },
  {
   "cell_type": "markdown",
   "metadata": {},
   "source": [
    "__Run the following in a code cell for debug: read back first few words of OFM:__   \n",
    "```Python\n",
    "for i in range(0, 15, 4):\n",
    "    print(hex(ofm[i]))\n",
    "```"
   ]
  },
  {
   "cell_type": "markdown",
   "metadata": {},
   "source": [
    "### Read cycle count and efficiency of the complete run"
   ]
  },
  {
   "cell_type": "code",
   "execution_count": 12,
   "metadata": {},
   "outputs": [
    {
     "name": "stdout",
     "output_type": "stream",
     "text": [
      "CNNDataflow IP cycles: 44141, effciency: 93.95%\n"
     ]
    }
   ],
   "source": [
    "hw_cycles = cnn.read(CYCLE_COUNT_OFFSET, 4)\n",
    "efficiency = conv.calc_efficiency(kernel_height, kernel_width, ifm_depth, hw_cycles)\n",
    "print(\"CNNDataflow IP cycles: %d, effciency: %.2f%%\" % (hw_cycles, efficiency))"
   ]
  },
  {
   "cell_type": "markdown",
   "metadata": {},
   "source": [
    "### Reset Xlnk"
   ]
  },
  {
   "cell_type": "code",
   "execution_count": 13,
   "metadata": {},
   "outputs": [
    {
     "name": "stdout",
     "output_type": "stream",
     "text": [
      "Available Memory (KB): 130040\n",
      "Available Buffers: 0\n",
      "Cleared Memory!\n"
     ]
    }
   ],
   "source": [
    "mmu.xlnk_reset()\n",
    "print_kb(mmu)\n",
    "print(\"Cleared Memory!\")"
   ]
  },
  {
   "cell_type": "code",
   "execution_count": null,
   "metadata": {
    "collapsed": true
   },
   "outputs": [],
   "source": []
  }
 ],
 "metadata": {
  "kernelspec": {
   "display_name": "Python 3",
   "language": "python",
   "name": "python3"
  },
  "language_info": {
   "codemirror_mode": {
    "name": "ipython",
    "version": 3
   },
   "file_extension": ".py",
   "mimetype": "text/x-python",
   "name": "python",
   "nbconvert_exporter": "python",
   "pygments_lexer": "ipython3",
   "version": "3.6.0"
  }
 },
 "nbformat": 4,
 "nbformat_minor": 2
}
